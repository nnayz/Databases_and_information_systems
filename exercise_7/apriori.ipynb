{
 "cells": [
  {
   "cell_type": "code",
   "execution_count": 2,
   "id": "0d46e556",
   "metadata": {},
   "outputs": [],
   "source": [
    "from collections import defaultdict\n",
    "from itertools import combinations"
   ]
  },
  {
   "cell_type": "code",
   "execution_count": 3,
   "id": "ad54a76e",
   "metadata": {},
   "outputs": [],
   "source": [
    "# Reading the data\n",
    "\n",
    "# List of all transactions\n",
    "transactions = []\n",
    "\n",
    "# List of unique items\n",
    "unique_items = set() \n",
    "\n",
    "# To improve performance in the later steps, instead of creating a frequency map, we create a map with item as the key and the list of all transaction indices where the item has been purchased\n",
    "items_trxns = defaultdict(list)\n",
    "\n",
    "with open('./data/transactions.txt', 'r') as f:\n",
    "    transaction_id = 0\n",
    "    for line in f:\n",
    "        # Split by whitespace and convert to strings and then to int\n",
    "        transaction = line.strip().split()\n",
    "        transaction = [int(item) for item in transaction]\n",
    "        transactions.append(transaction)\n",
    "\n",
    "        # Set of unique items in the transactions and counting the frequency of each item\n",
    "        for item in transaction:\n",
    "            unique_items.add(item)\n",
    "            items_trxns[item].append(transaction_id)\n",
    "\n",
    "        transaction_id += 1"
   ]
  },
  {
   "cell_type": "code",
   "execution_count": 4,
   "id": "3a0563ae",
   "metadata": {},
   "outputs": [
    {
     "name": "stdout",
     "output_type": "stream",
     "text": [
      "Item: 25 \n",
      "Transactions: [0, 17, 171, 307, 381, 399, 636, 657, 674, 780, 827, 848, 978, 1072, 1257, 1319, 1325, 1530, 1561, 1600, 1643, 1652, 1657, 1685, 1779, 1793, 1801, 1855, 1879, 1920, 1922, 1955, 2119, 2230, 2263, 2320, 2418, 2579, 2737, 3038, 3064, 3066, 3080, 3161, 3190, 3191, 3535, 3719, 3749, 3920, 4003, 4013, 4039, 4044, 4077, 4382, 4557, 4601, 4711, 4825, 4876, 4901, 5102, 5294, 5318, 5372, 5463, 5501, 5570, 5593, 5754, 5848, 5871, 5873, 6068, 6170, 6242, 6299, 6398, 6442, 6567, 6835, 6900, 7040, 7046, 7218, 7378, 7430, 7562, 7634, 7711, 7769, 7885, 8012, 8065, 8204, 8391, 8440, 8508, 8560, 8614, 8708, 8730, 8861, 8914, 9125, 9196, 9267, 9277, 9299, 9306, 9407, 9445, 9452, 9565, 9627, 9814, 9854, 9879, 9929, 9996]\n"
     ]
    }
   ],
   "source": [
    "# View our frequency map\n",
    "for item, trxn_list in items_trxns.items():\n",
    "    print(f\"Item: {item} \\nTransactions: {trxn_list}\")\n",
    "    break"
   ]
  },
  {
   "cell_type": "markdown",
   "id": "58221ae6",
   "metadata": {},
   "source": [
    "View the first 3 transactions"
   ]
  },
  {
   "cell_type": "code",
   "execution_count": 5,
   "id": "6a2e4ace",
   "metadata": {},
   "outputs": [
    {
     "name": "stdout",
     "output_type": "stream",
     "text": [
      "[25, 52, 164, 240, 274, 328, 368, 448, 538, 561, 630, 687, 730, 775, 825, 834]\n",
      "[39, 120, 124, 205, 401, 581, 704, 814, 825, 834]\n",
      "[35, 249, 674, 712, 733, 759, 854, 950]\n"
     ]
    }
   ],
   "source": [
    "# View the data\n",
    "for i in range(3):\n",
    "    print(transactions[i], end=\"\\n\")"
   ]
  },
  {
   "cell_type": "markdown",
   "id": "77f4fe4e",
   "metadata": {},
   "source": [
    "Number of unique items in the transactions dataset"
   ]
  },
  {
   "cell_type": "code",
   "execution_count": 6,
   "id": "bd47b725",
   "metadata": {},
   "outputs": [
    {
     "data": {
      "text/plain": [
       "866"
      ]
     },
     "execution_count": 6,
     "metadata": {},
     "output_type": "execute_result"
    }
   ],
   "source": [
    "len(unique_items) # Number of unique items in the transactions or C1"
   ]
  },
  {
   "cell_type": "markdown",
   "id": "ce6cd956",
   "metadata": {},
   "source": [
    "The item with the largest frequency, the most frequently purchased item in the dataset of transactions"
   ]
  },
  {
   "cell_type": "code",
   "execution_count": 7,
   "id": "e52f3479",
   "metadata": {},
   "outputs": [
    {
     "name": "stdout",
     "output_type": "stream",
     "text": [
      "368 823\n"
     ]
    }
   ],
   "source": [
    "maximum_freq_item = None\n",
    "maximum_freq = float('-inf')\n",
    "for item, freq in items_trxns.items():\n",
    "    if len(freq) > maximum_freq:\n",
    "        maximum_freq = len(freq)\n",
    "        maximum_freq_item = item\n",
    "\n",
    "print(maximum_freq_item, maximum_freq)"
   ]
  },
  {
   "cell_type": "markdown",
   "id": "ba6041bd",
   "metadata": {},
   "source": [
    "Calculating the minimum support count"
   ]
  },
  {
   "cell_type": "code",
   "execution_count": 8,
   "id": "364f1010",
   "metadata": {},
   "outputs": [
    {
     "name": "stdout",
     "output_type": "stream",
     "text": [
      "100\n"
     ]
    }
   ],
   "source": [
    "MIN_SUPPORT = 0.01 # 1% \n",
    "MIN_SUPPORT_COUNT = int(MIN_SUPPORT * len(transactions))\n",
    "\n",
    "# View the support count\n",
    "print(MIN_SUPPORT_COUNT)"
   ]
  },
  {
   "cell_type": "code",
   "execution_count": 9,
   "id": "7e8a065f",
   "metadata": {},
   "outputs": [
    {
     "name": "stdout",
     "output_type": "stream",
     "text": [
      "1-Itemset: 25\n",
      "Support: 121\n"
     ]
    }
   ],
   "source": [
    "# Calculating the C1 itemset\n",
    "c1_itemset = defaultdict(int) # Itemset: Support\n",
    "\n",
    "for itemset, trxn_list in items_trxns.items():\n",
    "    c1_itemset[itemset] = len(trxn_list)\n",
    "\n",
    "for itemset, freq in c1_itemset.items():\n",
    "    print(f\"1-Itemset: {itemset}\\nSupport: {freq}\")\n",
    "    break"
   ]
  },
  {
   "cell_type": "markdown",
   "id": "95f4163c",
   "metadata": {},
   "source": [
    "We can also verify this by checking in our items-transactions map"
   ]
  },
  {
   "cell_type": "code",
   "execution_count": 10,
   "id": "b236d80e",
   "metadata": {},
   "outputs": [
    {
     "data": {
      "text/plain": [
       "121"
      ]
     },
     "execution_count": 10,
     "metadata": {},
     "output_type": "execute_result"
    }
   ],
   "source": [
    "len(items_trxns[25])"
   ]
  },
  {
   "cell_type": "code",
   "execution_count": 11,
   "id": "d23f143e",
   "metadata": {},
   "outputs": [
    {
     "name": "stdout",
     "output_type": "stream",
     "text": [
      "1-Frequent Itemset: 25\n",
      "Support: 121\n"
     ]
    }
   ],
   "source": [
    "# Generating F1\n",
    "f1_itemset = defaultdict(int)\n",
    "\n",
    "for itemset, freq in c1_itemset.items():\n",
    "    if freq >= MIN_SUPPORT_COUNT:\n",
    "        f1_itemset[itemset] = freq\n",
    "\n",
    "\n",
    "for itemset, freq in f1_itemset.items():\n",
    "    print(f\"1-Frequent Itemset: {itemset}\\nSupport: {freq}\")\n",
    "    break"
   ]
  },
  {
   "cell_type": "code",
   "execution_count": 12,
   "id": "0d5fbe1e",
   "metadata": {},
   "outputs": [
    {
     "data": {
      "text/plain": [
       "379"
      ]
     },
     "execution_count": 12,
     "metadata": {},
     "output_type": "execute_result"
    }
   ],
   "source": [
    "# Number of F1 itemsets\n",
    "len(f1_itemset)"
   ]
  },
  {
   "cell_type": "code",
   "execution_count": 13,
   "id": "d0cae972",
   "metadata": {},
   "outputs": [
    {
     "name": "stdout",
     "output_type": "stream",
     "text": [
      "(25, 52)\n",
      "71631\n",
      "Number of Frequent 2-itemsets: 11\n"
     ]
    }
   ],
   "source": [
    "# Apriori Principle is already applied as we are only considering the 1-itemsets which are frequent\n",
    "# Generating C2\n",
    "f1_itemset_keys = list(f1_itemset.keys())\n",
    "C2_itemset_keys = []\n",
    "\n",
    "for i in range(len(f1_itemset_keys)):\n",
    "    for j in range(i + 1, len(f1_itemset_keys)):\n",
    "        C2_itemset_keys.append((f1_itemset_keys[i], f1_itemset_keys[j]))\n",
    "\n",
    "print(C2_itemset_keys[0]) # Print one sample to check\n",
    "print(len(C2_itemset_keys))\n",
    "\n",
    "C2_itemset = defaultdict(int)\n",
    "\n",
    "for itemset_key in C2_itemset_keys:\n",
    "    a, b = itemset_key\n",
    "    common_trxns = len(set(items_trxns[a]) & set(items_trxns[b]))\n",
    "    C2_itemset[itemset_key] = common_trxns\n",
    "\n",
    "# Generating F2\n",
    "f2_itemset = defaultdict(int)\n",
    "\n",
    "\n",
    "for itemset, freq in C2_itemset.items():\n",
    "    if freq >= MIN_SUPPORT_COUNT:\n",
    "        f2_itemset[frozenset(itemset)] = freq\n",
    "\n",
    "\n",
    "print(f\"Number of Frequent 2-itemsets: {len(f2_itemset)}\")"
   ]
  },
  {
   "cell_type": "code",
   "execution_count": 14,
   "id": "ed8d76ba",
   "metadata": {},
   "outputs": [
    {
     "name": "stdout",
     "output_type": "stream",
     "text": [
      "Itemset: frozenset({368, 682})\tSupport: 128\n",
      "Itemset: frozenset({368, 829})\tSupport: 127\n",
      "Itemset: frozenset({368, 692})\tSupport: 114\n",
      "Itemset: frozenset({825, 39})\tSupport: 151\n",
      "Itemset: frozenset({704, 825})\tSupport: 135\n",
      "Itemset: frozenset({704, 39})\tSupport: 139\n",
      "Itemset: frozenset({217, 283})\tSupport: 104\n",
      "Itemset: frozenset({227, 390})\tSupport: 101\n",
      "Itemset: frozenset({722, 390})\tSupport: 103\n",
      "Itemset: frozenset({217, 346})\tSupport: 149\n",
      "Itemset: frozenset({829, 789})\tSupport: 119\n"
     ]
    }
   ],
   "source": [
    "# THey are only 11, print\n",
    "for itemset, freq in f2_itemset.items():\n",
    "    print(f\"Itemset: {itemset}\\tSupport: {freq}\")"
   ]
  },
  {
   "cell_type": "code",
   "execution_count": 15,
   "id": "cdc6f576",
   "metadata": {},
   "outputs": [
    {
     "name": "stdout",
     "output_type": "stream",
     "text": [
      "1\n"
     ]
    }
   ],
   "source": [
    "# Generating C3\n",
    "f2_itemset_keys = list(f2_itemset.keys())\n",
    "C3_itemset_keys_intermediate = set()\n",
    "\n",
    "for f2_itemset_key in f2_itemset_keys:\n",
    "    C3_itemset_keys_intermediate.update(f2_itemset_key)\n",
    "\n",
    "C3_itemset_keys_intermediate = list(combinations(C3_itemset_keys_intermediate, 3)) # Create all possible combinations of the unique items\n",
    "\n",
    "C3_itemset_keys = []\n",
    "# Checking if a subset of any combination exists and has a minimum support count less than MIN_SUPPORT_COUNT\n",
    "# Checking APriori principle\n",
    "for C3_itemset_key in C3_itemset_keys_intermediate:\n",
    "    subsets_of_2 = list(combinations(C3_itemset_key, 2))\n",
    "    \n",
    "    # Check for support of these subsets\n",
    "    to_push = True\n",
    "    for subset in subsets_of_2:\n",
    "        if frozenset(subset) not in f2_itemset_keys:\n",
    "            to_push = False\n",
    "\n",
    "    if to_push:\n",
    "        C3_itemset_keys.append(C3_itemset_key)\n",
    "\n",
    "print(len(C3_itemset_keys)) # Print one example. \n",
    "            \n"
   ]
  },
  {
   "cell_type": "code",
   "execution_count": 18,
   "id": "58a46f6f",
   "metadata": {},
   "outputs": [
    {
     "name": "stdout",
     "output_type": "stream",
     "text": [
      "Number of Frequent 3-itemsets: 1\n",
      "\n",
      "--------------------\n",
      "3-Frequent Itemset: frozenset({704, 825, 39})\n",
      "Support: 128\n",
      "--------------------\n"
     ]
    }
   ],
   "source": [
    "# Calculate the support count of C3\n",
    "C3_itemset = defaultdict(int)\n",
    "\n",
    "\n",
    "for itemset_key in C3_itemset_keys:\n",
    "    a, b, c = itemset_key\n",
    "    common_trxns = len(set(items_trxns[a]) & set(items_trxns[b]) & set(items_trxns[c]))\n",
    "    C3_itemset[frozenset(itemset_key)] = common_trxns\n",
    "\n",
    "# Generate F3\n",
    "f3_itemset = defaultdict(int)\n",
    "\n",
    "for itemset, freq in C3_itemset.items():\n",
    "    if freq >= MIN_SUPPORT_COUNT:\n",
    "        f3_itemset[frozenset(itemset)] = freq\n",
    "\n",
    "print(f\"Number of Frequent 3-itemsets: {len(f3_itemset)}\\n\")\n",
    "print(\"-\"*20)\n",
    "for itemset, freq in f3_itemset.items():\n",
    "    print(f\"3-Frequent Itemset: {itemset}\\nSupport: {freq}\")\n",
    "    print(\"-\"*20)"
   ]
  },
  {
   "cell_type": "code",
   "execution_count": null,
   "id": "b64fc799",
   "metadata": {},
   "outputs": [],
   "source": []
  }
 ],
 "metadata": {
  "kernelspec": {
   "display_name": ".venv",
   "language": "python",
   "name": "python3"
  },
  "language_info": {
   "codemirror_mode": {
    "name": "ipython",
    "version": 3
   },
   "file_extension": ".py",
   "mimetype": "text/x-python",
   "name": "python",
   "nbconvert_exporter": "python",
   "pygments_lexer": "ipython3",
   "version": "3.13.2"
  }
 },
 "nbformat": 4,
 "nbformat_minor": 5
}
